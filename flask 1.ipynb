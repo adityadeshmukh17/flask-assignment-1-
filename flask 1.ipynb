{
 "cells": [
  {
   "cell_type": "code",
   "execution_count": null,
   "id": "b854ea8a-738b-4659-9e83-98c4d99812c1",
   "metadata": {},
   "outputs": [],
   "source": [
    "Q2. Create a simple Flask application to display ‘Hello World!!’. Attach the screenshot of the output in\n",
    "Jupyter Notebook.\n",
    "Q4. Create a “/welcome” route to display the welcome message “Welcome to ABC Corporation” and a “/”\n",
    "route to show the following details:\n",
    "Company Name: ABC Corporation\n",
    "Location: India\n",
    "Contact Detail: 999-999-9999\n",
    "Attach the screenshot of the output in Jupyter Notebook."
   ]
  },
  {
   "cell_type": "code",
   "execution_count": null,
   "id": "14edd15f-b50c-4286-a77f-e8e77ad05b3c",
   "metadata": {},
   "outputs": [],
   "source": [
    "from flask import Flask,request,jsonify\n",
    "app = Flask(__name__)\n",
    "@app.route(\"/display\")\n",
    "def display():\n",
    "    return \"<h1>Hello World!!</h1>\"\n",
    "@app.route(\"/\")\n",
    "def info():\n",
    "    d={'Company Name': 'ABC Corporation',\n",
    "    'Location': 'India',\n",
    "    'Contact Detail': '999-999-9999'}\n",
    "    return d\n",
    "@app.route(\"/welcome\")\n",
    "def welcomemsg():\n",
    "    return \"Welcome to ABC Corporation\"\n",
    "if __name__==\"__main__\":\n",
    "    app.run(host=\"0.0.0.0\")"
   ]
  },
  {
   "cell_type": "code",
   "execution_count": null,
   "id": "aaea773a-540a-4bf8-8ba1-eafae14e02c5",
   "metadata": {},
   "outputs": [],
   "source": [
    "Q5. What function is used in Flask for URL Building? Write a Python code to demonstrate the working of the\n",
    "url_for() function."
   ]
  },
  {
   "cell_type": "code",
   "execution_count": null,
   "id": "4b235ddc-0cab-489d-a3f8-20d9bc7568ec",
   "metadata": {},
   "outputs": [],
   "source": [
    "In Flask, the url_for() function is used for URL building. It generates a URL to the endpoint provided as the first argument, and it can handle any number of keyword arguments to build the URL with query parameters."
   ]
  },
  {
   "cell_type": "code",
   "execution_count": null,
   "id": "862a0a31-c7bf-40fc-a2a8-902af2c1157b",
   "metadata": {},
   "outputs": [],
   "source": [
    "from flask import Flask,request,jsonify,url_for,redirect\n",
    "app = Flask(__name__)\n",
    "@app.route(\"/welcome\")\n",
    "def welcomemsg():\n",
    "    return \"Welcome to ABC Corporation\"\n",
    "@app.route(\"/go\")\n",
    "def go():\n",
    "    return redirect(url_for('welcomemsg'))\n",
    "\n",
    "if __name__==\"__main__\":\n",
    "    app.run(host=\"0.0.0.0\")"
   ]
  },
  {
   "cell_type": "code",
   "execution_count": null,
   "id": "5cf64ed4-8920-42a2-b22b-4d00217cf16f",
   "metadata": {},
   "outputs": [],
   "source": [
    "Q3. What is App Routing in Flask? Why Do We Use App Routes?\n",
    "App Routing in Flask refers to the process of defining URL patterns (routes) that are mapped to specific functions (views) in the application. This determines how the application responds to different URL requests.\n",
    "\n",
    "Why Do We Use App Routes?\n",
    "\n",
    "To map URLs to functions.\n",
    "To handle different web pages and actions.\n",
    "To create a structured web application."
   ]
  },
  {
   "cell_type": "code",
   "execution_count": null,
   "id": "b96e2c7d-6f59-4002-8f6f-5bcd479ac0e1",
   "metadata": {},
   "outputs": [],
   "source": [
    " Q1. What is Flask Framework? What are the Advantages of Flask Framework?\n",
    " Flask Framework:\n",
    "Flask is a lightweight and flexible web framework for Python that allows developers to build web applications quickly and easily. It is designed to be simple and easy to use, with minimal setup required.\n",
    " Advantages of Flask Framework:\n",
    "\n",
    " Lightweight: Flask is a micro-framework, meaning it has a small core and provides essential features without any overhead.\n",
    " Flexible: Flask allows you to add extensions and libraries as needed, giving you the flexibility to build your application the way you want.\n",
    " Easy to Learn: Flask has a simple and easy-to-understand syntax, making it a great choice for beginners.\n",
    "Built-in Development Server: Flask comes with a built-in development server, making it easy to test and debug applications during development."
   ]
  },
  {
   "cell_type": "code",
   "execution_count": null,
   "id": "f55d46ab-5cf3-492b-b4cc-162637b31c6b",
   "metadata": {},
   "outputs": [],
   "source": []
  }
 ],
 "metadata": {
  "kernelspec": {
   "display_name": "Python 3 (ipykernel)",
   "language": "python",
   "name": "python3"
  },
  "language_info": {
   "codemirror_mode": {
    "name": "ipython",
    "version": 3
   },
   "file_extension": ".py",
   "mimetype": "text/x-python",
   "name": "python",
   "nbconvert_exporter": "python",
   "pygments_lexer": "ipython3",
   "version": "3.10.8"
  }
 },
 "nbformat": 4,
 "nbformat_minor": 5
}
